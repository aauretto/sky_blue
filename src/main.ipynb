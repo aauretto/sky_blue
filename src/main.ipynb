{
 "cells": [
  {
   "cell_type": "code",
   "execution_count": 6,
   "metadata": {},
   "outputs": [],
   "source": [
    "import datetime as dt\n",
    "import pandas as pd\n",
    "import numpy as np\n",
    "import pirep as pr"
   ]
  },
  {
   "cell_type": "code",
   "execution_count": null,
   "metadata": {},
   "outputs": [],
   "source": [
    "# Retrieve PIREPs\n",
    "raw_reports = pr.fetch(\n",
    "    pr.url(\n",
    "        date_s=dt.datetime(2024, 11, 6, 23, 55, 0, tzinfo=dt.timezone.utc),\n",
    "        date_e=dt.datetime(2024, 11, 7, 0, 5, 0, tzinfo=dt.timezone.utc),\n",
    "    )\n",
    ")\n",
    "raw_reports"
   ]
  },
  {
   "cell_type": "code",
   "execution_count": null,
   "metadata": {},
   "outputs": [],
   "source": [
    "# Retrieve PIREPs\n",
    "reports = pr.parse_all(raw_reports)\n",
    "reports = reports.dropna()\n",
    "reports"
   ]
  },
  {
   "cell_type": "code",
   "execution_count": 9,
   "metadata": {},
   "outputs": [],
   "source": [
    "from pirep.defs.turbulence import Turbulence\n",
    "from pirep import compute_grid\n",
    "from pirep.consts import TURBULENCE_INDEXES\n",
    "def turbulence_score(x):\n",
    "    print(x, flush=True)\n",
    "    turbulence, aircraft = x\n",
    "    if turbulence.intensity != Turbulence.Intensity.EXT:\n",
    "        turbulence_index = TURBULENCE_INDEXES[aircraft][turbulence.intensity]\n",
    "    else:\n",
    "        turbulence_index = TURBULENCE_INDEXES[aircraft][Turbulence.Intensity.SEV]\n",
    "\n",
    "    return turbulence_index\n",
    "\n",
    "xs = reports[\"Location\"].map(lambda x: x.lon)\n",
    "ys = reports[\"Location\"].map(lambda x: x.lat)\n",
    "zs = reports[\"Altitude\"].map(lambda x: (x.min // 500) if x.min is not None else 0)\n",
    "cs = reports.apply(compute_grid, axis=1).to_numpy()"
   ]
  },
  {
   "cell_type": "code",
   "execution_count": 10,
   "metadata": {},
   "outputs": [],
   "source": [
    "# grouped_grid = np.max(np.stack(grids[\"Grid\"]), axis=0)"
   ]
  },
  {
   "cell_type": "code",
   "execution_count": null,
   "metadata": {},
   "outputs": [],
   "source": [
    "import matplotlib.pyplot as plt\n",
    "import matplotlib as mpl\n",
    "\n",
    "fig = plt.figure()\n",
    "ax = fig.add_subplot()\n",
    "plot = ax.scatter(xs, ys, c=cs, cmap=\"hot\")\n",
    "ax.set_xlabel(\"Longitude\")\n",
    "ax.set_ylabel(\"Latitude\")\n",
    "fig.colorbar(plot)\n",
    "fig.show()"
   ]
  }
 ],
 "metadata": {
  "kernelspec": {
   "display_name": ".venv",
   "language": "python",
   "name": "python3"
  },
  "language_info": {
   "codemirror_mode": {
    "name": "ipython",
    "version": 3
   },
   "file_extension": ".py",
   "mimetype": "text/x-python",
   "name": "python",
   "nbconvert_exporter": "python",
   "pygments_lexer": "ipython3",
   "version": "3.13.1"
  }
 },
 "nbformat": 4,
 "nbformat_minor": 2
}
