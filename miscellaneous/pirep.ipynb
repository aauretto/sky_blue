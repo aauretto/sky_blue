{
 "cells": [
  {
   "cell_type": "markdown",
   "metadata": {},
   "source": [
    "First, set the time range to fetch PIREPs for:"
   ]
  },
  {
   "cell_type": "code",
   "execution_count": 30,
   "metadata": {},
   "outputs": [],
   "source": [
    "import datetime as dt\n",
    "\n",
    "date_s = dt.datetime(2024, 11, 16, 0, 0, 0, tzinfo=dt.UTC)\n",
    "date_e = dt.datetime(2024, 11, 17, 0, 0, 0, tzinfo=dt.UTC)"
   ]
  },
  {
   "cell_type": "markdown",
   "metadata": {},
   "source": [
    "Construct the URL to fetch PIREPs from:"
   ]
  },
  {
   "cell_type": "code",
   "execution_count": 31,
   "metadata": {},
   "outputs": [
    {
     "data": {
      "text/plain": [
       "'https://mesonet.agron.iastate.edu/cgi-bin/request/gis/pireps.py?sts=2024-11-16T00%3A00%3A00Z&ets=2024-11-17T00%3A00%3A00Z&artcc=_ALL&fmt=csv'"
      ]
     },
     "execution_count": 31,
     "metadata": {},
     "output_type": "execute_result"
    }
   ],
   "source": [
    "from urllib import parse\n",
    "\n",
    "base_url = \"https://mesonet.agron.iastate.edu/cgi-bin/request/gis/pireps.py?\"\n",
    "params = {\n",
    "    \"sts\": date_s.isoformat().replace(\"+00:00\", \"Z\"),\n",
    "    \"ets\": date_e.isoformat().replace(\"+00:00\", \"Z\"),\n",
    "    \"artcc\": \"_ALL\",\n",
    "    \"fmt\": \"csv\",\n",
    "}\n",
    "url = base_url + parse.urlencode(params)\n",
    "url"
   ]
  },
  {
   "cell_type": "markdown",
   "metadata": {},
   "source": [
    "Next, read the CSV file from the URL:"
   ]
  },
  {
   "cell_type": "code",
   "execution_count": 32,
   "metadata": {},
   "outputs": [],
   "source": [
    "import pandas as pd\n",
    "\n",
    "df = pd.read_csv(url)"
   ]
  },
  {
   "cell_type": "code",
   "execution_count": 33,
   "metadata": {},
   "outputs": [],
   "source": [
    "df = df[[\"VALID\", \"REPORT\"]]\n",
    "df = df.rename(columns={\"VALID\": \"Timestamp\", \"REPORT\": \"Report\"})\n",
    "df[\"Timestamp\"] = pd.to_datetime(df[\"Timestamp\"], format=f\"%Y%m%d%H%M\")"
   ]
  },
  {
   "cell_type": "markdown",
   "metadata": {},
   "source": [
    "Clean up the columns and extract the relevant data:"
   ]
  },
  {
   "cell_type": "code",
   "execution_count": 34,
   "metadata": {},
   "outputs": [],
   "source": [
    "FLAGS = {\n",
    "    \"Station\": r\"^(\\w{3,4})\",\n",
    "    \"Urgency\": r\"(UAA?)\",\n",
    "    \"Location\": r\"/OV\\s?(.*?)\\s?/TM\",\n",
    "    \"Flight Level\": r\"/FL\\s?(\\d{3})\\s?/TP\",\n",
    "    \"Aircraft Type\": r\"/TP\\s?(.*?)\\s?/|$\",\n",
    "    \"Turbulence\": r\"/TB\\s?(.*?)\\s?/|$\",\n",
    "}"
   ]
  },
  {
   "cell_type": "code",
   "execution_count": 35,
   "metadata": {},
   "outputs": [],
   "source": [
    "for flag in FLAGS:\n",
    "    df[flag] = df[\"Report\"].str.extract(FLAGS[flag])"
   ]
  },
  {
   "cell_type": "code",
   "execution_count": 36,
   "metadata": {},
   "outputs": [],
   "source": [
    "# Replace unknown stations\n",
    "df[\"Station\"] = df[\"Station\"].fillna(\"None\")"
   ]
  },
  {
   "cell_type": "code",
   "execution_count": 37,
   "metadata": {},
   "outputs": [],
   "source": [
    "# Replace unknown flight levels\n",
    "# TODO: Revisit this\n",
    "df[\"Flight Level\"] = pd.to_numeric(df[\"Flight Level\"].fillna(value=0)) * 100"
   ]
  },
  {
   "cell_type": "code",
   "execution_count": 38,
   "metadata": {},
   "outputs": [],
   "source": [
    "# Replace urgencies\n",
    "df[\"Urgency\"] = df[\"Urgency\"].replace({\"UA\": \"Routine\", \"UAA\": \"Urgent\"})"
   ]
  },
  {
   "cell_type": "code",
   "execution_count": 39,
   "metadata": {},
   "outputs": [],
   "source": [
    "# Replace unknown turbulence by assuming no turbulence\n",
    "# TODO: Revisit this\n",
    "df[\"Turbulence\"] = df[\"Turbulence\"].fillna(\"NEG\")\n",
    "df[\"Turbulence\"] = df[\"Turbulence\"].replace([\"SMOOTH\", \"NONE\"], \"NEG\")"
   ]
  },
  {
   "cell_type": "code",
   "execution_count": 40,
   "metadata": {},
   "outputs": [
    {
     "data": {
      "text/plain": [
       "Turbulence\n",
       "NEG                          2017\n",
       "MOD                            46\n",
       "LGT CHOP                       44\n",
       "OCNL LGT CHOP                  32\n",
       "MOD CHOP                       25\n",
       "                             ... \n",
       "CONS LGT-MOD CHOP 195-220       1\n",
       "LGT CONS 260-280                1\n",
       "MOD 010                         1\n",
       "CONS CHOP                       1\n",
       "INTMT MOD CONS LGT              1\n",
       "Name: count, Length: 174, dtype: int64"
      ]
     },
     "execution_count": 40,
     "metadata": {},
     "output_type": "execute_result"
    }
   ],
   "source": [
    "df[\"Turbulence\"].value_counts()"
   ]
  },
  {
   "cell_type": "code",
   "execution_count": 41,
   "metadata": {},
   "outputs": [],
   "source": [
    "df[\"Turbulence Duration\"] = df[\"Turbulence\"].str.extract(r\"((?:INT(?:ER)?M(?:ITTEN)?T)|(?:OC(?:C?ASS?IO)?NA?L)|(?:CON(?:TINUOU)?S(?:TANT)?))\")\n",
    "df[\"Turbulence Intensity\"] = df[\"Turbulence\"].str.extract(r\"((?:NEG)|(?:LI?G?H?T)|(?:MOD)|(?:SEV)|(?:EXTRE?ME?)(?:-(?:LI?G?H?T)|(?:MOD)|(?:SEV)|(?:EXTRE?ME?))?)\")\n",
    "df[\"Turbulence Type\"] = df[\"Turbulence\"].str.extract(r\"((?:CAT)|(?:CHOP))\")\n",
    "df[\"Turbulence Altitude\"] = df[\"Turbulence\"].str.extract(r\"((?:(?:BE?LOW?)|(?:ABO?VE?))?\\s\\d{3}(?:-\\d{3})?)\")"
   ]
  },
  {
   "cell_type": "code",
   "execution_count": 47,
   "metadata": {},
   "outputs": [
    {
     "data": {
      "text/html": [
       "<div>\n",
       "<style scoped>\n",
       "    .dataframe tbody tr th:only-of-type {\n",
       "        vertical-align: middle;\n",
       "    }\n",
       "\n",
       "    .dataframe tbody tr th {\n",
       "        vertical-align: top;\n",
       "    }\n",
       "\n",
       "    .dataframe thead th {\n",
       "        text-align: right;\n",
       "    }\n",
       "</style>\n",
       "<table border=\"1\" class=\"dataframe\">\n",
       "  <thead>\n",
       "    <tr style=\"text-align: right;\">\n",
       "      <th></th>\n",
       "      <th>Timestamp</th>\n",
       "      <th>Report</th>\n",
       "      <th>Station</th>\n",
       "      <th>Urgency</th>\n",
       "      <th>Location</th>\n",
       "      <th>Flight Level</th>\n",
       "      <th>Aircraft Type</th>\n",
       "      <th>Turbulence</th>\n",
       "      <th>Turbulence Duration</th>\n",
       "      <th>Turbulence Intensity</th>\n",
       "      <th>Turbulence Type</th>\n",
       "      <th>Turbulence Altitude</th>\n",
       "    </tr>\n",
       "  </thead>\n",
       "  <tbody>\n",
       "    <tr>\n",
       "      <th>1311</th>\n",
       "      <td>2024-11-16 17:07:00</td>\n",
       "      <td>ACY UA /OV KACY/TM 1707/FL005/TP C172/TB /TB L...</td>\n",
       "      <td>ACY</td>\n",
       "      <td>Routine</td>\n",
       "      <td>KACY</td>\n",
       "      <td>500</td>\n",
       "      <td>C172</td>\n",
       "      <td></td>\n",
       "      <td>NaN</td>\n",
       "      <td>NaN</td>\n",
       "      <td>NaN</td>\n",
       "      <td>NaN</td>\n",
       "    </tr>\n",
       "    <tr>\n",
       "      <th>1841</th>\n",
       "      <td>2024-11-16 19:50:00</td>\n",
       "      <td>PAE UUA /OV PAE/TM 1950/FL015/TP C172/TB CLOM/...</td>\n",
       "      <td>PAE</td>\n",
       "      <td>Routine</td>\n",
       "      <td>PAE</td>\n",
       "      <td>1500</td>\n",
       "      <td>C172</td>\n",
       "      <td>CLOM</td>\n",
       "      <td>NaN</td>\n",
       "      <td>NaN</td>\n",
       "      <td>NaN</td>\n",
       "      <td>NaN</td>\n",
       "    </tr>\n",
       "    <tr>\n",
       "      <th>1961</th>\n",
       "      <td>2024-11-16 20:18:00</td>\n",
       "      <td>AMA UA /OV PNH180025/TM 2018/FLDURD/TP BE9L/TB...</td>\n",
       "      <td>AMA</td>\n",
       "      <td>Routine</td>\n",
       "      <td>PNH180025</td>\n",
       "      <td>0</td>\n",
       "      <td>BE9L</td>\n",
       "      <td>L-M</td>\n",
       "      <td>NaN</td>\n",
       "      <td>NaN</td>\n",
       "      <td>NaN</td>\n",
       "      <td>NaN</td>\n",
       "    </tr>\n",
       "    <tr>\n",
       "      <th>2341</th>\n",
       "      <td>2024-11-16 22:52:00</td>\n",
       "      <td>DLH UA /OV DLH/TM 2252/FL018/TP SR20/TB +/- 8/...</td>\n",
       "      <td>DLH</td>\n",
       "      <td>Routine</td>\n",
       "      <td>DLH</td>\n",
       "      <td>1800</td>\n",
       "      <td>SR20</td>\n",
       "      <td>+</td>\n",
       "      <td>NaN</td>\n",
       "      <td>NaN</td>\n",
       "      <td>NaN</td>\n",
       "      <td>NaN</td>\n",
       "    </tr>\n",
       "    <tr>\n",
       "      <th>2367</th>\n",
       "      <td>2024-11-16 23:01:00</td>\n",
       "      <td>MZZ UA /OV MZZ/TM 2301/FL250/TP B350/TB M18/IC...</td>\n",
       "      <td>MZZ</td>\n",
       "      <td>Routine</td>\n",
       "      <td>MZZ</td>\n",
       "      <td>25000</td>\n",
       "      <td>B350</td>\n",
       "      <td>M18</td>\n",
       "      <td>NaN</td>\n",
       "      <td>NaN</td>\n",
       "      <td>NaN</td>\n",
       "      <td>NaN</td>\n",
       "    </tr>\n",
       "  </tbody>\n",
       "</table>\n",
       "</div>"
      ],
      "text/plain": [
       "               Timestamp                                             Report  \\\n",
       "1311 2024-11-16 17:07:00  ACY UA /OV KACY/TM 1707/FL005/TP C172/TB /TB L...   \n",
       "1841 2024-11-16 19:50:00  PAE UUA /OV PAE/TM 1950/FL015/TP C172/TB CLOM/...   \n",
       "1961 2024-11-16 20:18:00  AMA UA /OV PNH180025/TM 2018/FLDURD/TP BE9L/TB...   \n",
       "2341 2024-11-16 22:52:00  DLH UA /OV DLH/TM 2252/FL018/TP SR20/TB +/- 8/...   \n",
       "2367 2024-11-16 23:01:00  MZZ UA /OV MZZ/TM 2301/FL250/TP B350/TB M18/IC...   \n",
       "\n",
       "     Station  Urgency   Location  Flight Level Aircraft Type Turbulence  \\\n",
       "1311     ACY  Routine       KACY           500          C172              \n",
       "1841     PAE  Routine        PAE          1500          C172       CLOM   \n",
       "1961     AMA  Routine  PNH180025             0          BE9L        L-M   \n",
       "2341     DLH  Routine        DLH          1800          SR20          +   \n",
       "2367     MZZ  Routine        MZZ         25000          B350        M18   \n",
       "\n",
       "     Turbulence Duration Turbulence Intensity Turbulence Type  \\\n",
       "1311                 NaN                  NaN             NaN   \n",
       "1841                 NaN                  NaN             NaN   \n",
       "1961                 NaN                  NaN             NaN   \n",
       "2341                 NaN                  NaN             NaN   \n",
       "2367                 NaN                  NaN             NaN   \n",
       "\n",
       "     Turbulence Altitude  \n",
       "1311                 NaN  \n",
       "1841                 NaN  \n",
       "1961                 NaN  \n",
       "2341                 NaN  \n",
       "2367                 NaN  "
      ]
     },
     "execution_count": 47,
     "metadata": {},
     "output_type": "execute_result"
    }
   ],
   "source": [
    "non_neg = df[df[\"Turbulence\"] != \"NEG\"]\n",
    "non_neg = non_neg[non_neg[[\"Turbulence Duration\", \"Turbulence Intensity\", \"Turbulence Type\", \"Turbulence Altitude\"]].isna().all(axis=1)]\n",
    "non_neg"
   ]
  },
  {
   "cell_type": "code",
   "execution_count": 50,
   "metadata": {},
   "outputs": [],
   "source": [
    "df = df.dropna(how=\"all\", subset=[\"Turbulence Duration\", \"Turbulence Intensity\", \"Turbulence Type\", \"Turbulence Altitude\"])"
   ]
  },
  {
   "cell_type": "markdown",
   "metadata": {},
   "source": [
    "Parse locations:"
   ]
  }
 ],
 "metadata": {
  "kernelspec": {
   "display_name": ".venv",
   "language": "python",
   "name": "python3"
  },
  "language_info": {
   "codemirror_mode": {
    "name": "ipython",
    "version": 3
   },
   "file_extension": ".py",
   "mimetype": "text/x-python",
   "name": "python",
   "nbconvert_exporter": "python",
   "pygments_lexer": "ipython3",
   "version": "3.13.0"
  }
 },
 "nbformat": 4,
 "nbformat_minor": 2
}
